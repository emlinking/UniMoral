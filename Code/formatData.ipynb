{
 "cells": [
  {
   "cell_type": "code",
   "execution_count": 1,
   "metadata": {},
   "outputs": [],
   "source": [
    "import os\n",
    "import sys\n",
    "import pandas as pd\n",
    "import json\n",
    "import tarfile\n",
    "import zipfile"
   ]
  },
  {
   "cell_type": "code",
   "execution_count": 2,
   "metadata": {},
   "outputs": [],
   "source": [
    "def extract_all_files(tar_file_path, extract_to):\n",
    "    with tarfile.open(tar_file_path, 'r') as tar:\n",
    "        tar.extractall(extract_to)"
   ]
  },
  {
   "cell_type": "code",
   "execution_count": null,
   "metadata": {},
   "outputs": [],
   "source": [
    "## For ANECDOTES\n",
    "extract_all_files(\"./../anecdotes.tar\"  ,\"./../ExtractedFiles/\")\n",
    "\n",
    "with open(\"./../ExtractedFiles/anecdotes/train.scruples-anecdotes.jsonl\") as f:\n",
    "    data = f.readlines()\n",
    "\n",
    "for d in data:\n",
    "    d = json.loads(d)\n",
    "    print(d)\n",
    "    print(d.keys())\n",
    "    break"
   ]
  },
  {
   "cell_type": "code",
   "execution_count": null,
   "metadata": {},
   "outputs": [],
   "source": [
    "## For DILEMMAS\n",
    "extract_all_files(\"./../dilemmas.tar\"  ,\"./../ExtractedFiles/\")\n",
    "\n",
    "with open(\"./../ExtractedFiles/dilemmas/train.scruples-dilemmas.jsonl\") as f:\n",
    "    data = f.readlines()\n",
    "\n",
    "for d in data:\n",
    "    d = json.loads(d)\n",
    "    print(d)\n",
    "    print(d.keys())\n",
    "    break"
   ]
  },
  {
   "cell_type": "code",
   "execution_count": null,
   "metadata": {},
   "outputs": [],
   "source": [
    "## For ETHICS\n",
    "extract_all_files(\"./../ethics.tar\"  ,\"./../ExtractedFiles/\")"
   ]
  },
  {
   "cell_type": "code",
   "execution_count": 4,
   "metadata": {},
   "outputs": [],
   "source": [
    "## For Social Bias Inference Corpus\n",
    "extract_all_files(\"./../SBIC.v2.tar\",\"./../ExtractedFiles\")"
   ]
  },
  {
   "cell_type": "code",
   "execution_count": 6,
   "metadata": {},
   "outputs": [],
   "source": [
    "## For STORAL\n",
    "with zipfile.ZipFile(\"./../STORAL.zip\", 'r') as zip_ref:\n",
    "    zip_ref.extractall(\"./../ExtractedFiles\")"
   ]
  },
  {
   "cell_type": "code",
   "execution_count": 7,
   "metadata": {},
   "outputs": [],
   "source": [
    "## For Story Commonsense\n",
    "with zipfile.ZipFile(\"./../storycommonsense_data.zip\", 'r') as zip_ref:\n",
    "    zip_ref.extractall(\"./../ExtractedFiles\")"
   ]
  },
  {
   "cell_type": "code",
   "execution_count": 8,
   "metadata": {},
   "outputs": [],
   "source": [
    "## For Moral Choice Survey\n",
    "with zipfile.ZipFile(\"./../MoralChoice.zip\", 'r') as zip_ref:\n",
    "    zip_ref.extractall(\"./../ExtractedFiles\")"
   ]
  },
  {
   "cell_type": "code",
   "execution_count": 5,
   "metadata": {},
   "outputs": [],
   "source": [
    "## Moral Foundations Twitter Corpus\n",
    "with open(\"./moralfoundationstwittercorpus/MFTC_V4.json\",\"r\") as f:\n",
    "    data = json.load(f)\n",
    "data[0]"
   ]
  },
  {
   "cell_type": "code",
   "execution_count": null,
   "metadata": {},
   "outputs": [],
   "source": []
  }
 ],
 "metadata": {
  "kernelspec": {
   "display_name": "Python 3",
   "language": "python",
   "name": "python3"
  },
  "language_info": {
   "codemirror_mode": {
    "name": "ipython",
    "version": 3
   },
   "file_extension": ".py",
   "mimetype": "text/x-python",
   "name": "python",
   "nbconvert_exporter": "python",
   "pygments_lexer": "ipython3",
   "version": "3.1.-1"
  }
 },
 "nbformat": 4,
 "nbformat_minor": 2
}
