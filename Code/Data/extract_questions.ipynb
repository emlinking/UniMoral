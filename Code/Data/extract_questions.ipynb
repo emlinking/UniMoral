{
 "cells": [
  {
   "cell_type": "code",
   "execution_count": 2,
   "metadata": {},
   "outputs": [],
   "source": [
    "import pandas as pd\n",
    "import json\n",
    "import gzip\n",
    "from glob import glob\n",
    "from tqdm.auto import tqdm\n",
    "from collections import defaultdict\n",
    "import re"
   ]
  },
  {
   "cell_type": "code",
   "execution_count": 5,
   "metadata": {},
   "outputs": [
    {
     "data": {
      "text/plain": [
       "172"
      ]
     },
     "execution_count": 5,
     "metadata": {},
     "output_type": "execute_result"
    }
   ],
   "source": [
    "files = glob('/shared/4/projects/reddit-morals/data/RS*')\n",
    "len(files)"
   ]
  },
  {
   "cell_type": "code",
   "execution_count": 6,
   "metadata": {},
   "outputs": [
    {
     "data": {
      "application/vnd.jupyter.widget-view+json": {
       "model_id": "91d09bb625334aed836a3338c5fc3e5e",
       "version_major": 2,
       "version_minor": 0
      },
      "text/plain": [
       "  0%|          | 0/172 [00:00<?, ?it/s]"
      ]
     },
     "metadata": {},
     "output_type": "display_data"
    },
    {
     "name": "stdout",
     "output_type": "stream",
     "text": [
      "2060960\n"
     ]
    }
   ],
   "source": [
    "df = defaultdict(list)\n",
    "for fname in tqdm(files):\n",
    "    with gzip.open(fname, 'rt') as f:\n",
    "        try:\n",
    "            for line in f:\n",
    "                try:\n",
    "                    data = json.loads(line)\n",
    "                except json.JSONDecodeError:\n",
    "                    continue\n",
    "                if 'selftext' not in data:\n",
    "                    continue\n",
    "\n",
    "                title = data['title']\n",
    "                body = data['selftext']\n",
    "                question = title + '\\n' + body\n",
    "                if len(question.split()) < 50:\n",
    "                    continue\n",
    "\n",
    "                df['subreddit'].append(data['subreddit'])\n",
    "                df['id'].append(data['id'])\n",
    "                df['title'].append(data['title'])\n",
    "                df['question'].append(question)\n",
    "        except Exception as e:\n",
    "            print(e)\n",
    "df = pd.DataFrame(df)\n",
    "print(len(df))"
   ]
  },
  {
   "cell_type": "code",
   "execution_count": 7,
   "metadata": {},
   "outputs": [
    {
     "data": {
      "text/plain": [
       "2060960"
      ]
     },
     "execution_count": 7,
     "metadata": {},
     "output_type": "execute_result"
    }
   ],
   "source": [
    "len(df)"
   ]
  },
  {
   "cell_type": "code",
   "execution_count": 8,
   "metadata": {},
   "outputs": [
    {
     "data": {
      "text/html": [
       "<div>\n",
       "<style scoped>\n",
       "    .dataframe tbody tr th:only-of-type {\n",
       "        vertical-align: middle;\n",
       "    }\n",
       "\n",
       "    .dataframe tbody tr th {\n",
       "        vertical-align: top;\n",
       "    }\n",
       "\n",
       "    .dataframe thead th {\n",
       "        text-align: right;\n",
       "    }\n",
       "</style>\n",
       "<table border=\"1\" class=\"dataframe\">\n",
       "  <thead>\n",
       "    <tr style=\"text-align: right;\">\n",
       "      <th></th>\n",
       "      <th>subreddit</th>\n",
       "      <th>id</th>\n",
       "      <th>title</th>\n",
       "      <th>question</th>\n",
       "    </tr>\n",
       "  </thead>\n",
       "  <tbody>\n",
       "    <tr>\n",
       "      <th>1494842</th>\n",
       "      <td>AskReddit</td>\n",
       "      <td>nirs6</td>\n",
       "      <td>Apartment Managers/Staff, what do you look for...</td>\n",
       "      <td>Apartment Managers/Staff, what do you look for...</td>\n",
       "    </tr>\n",
       "    <tr>\n",
       "      <th>32069</th>\n",
       "      <td>AskReddit</td>\n",
       "      <td>mr2g8</td>\n",
       "      <td>Girlfriend help?! What Do I Do?!</td>\n",
       "      <td>Girlfriend help?! What Do I Do?!\\nOk so my gir...</td>\n",
       "    </tr>\n",
       "    <tr>\n",
       "      <th>1162044</th>\n",
       "      <td>AmItheAsshole</td>\n",
       "      <td>cihpqp</td>\n",
       "      <td>AITA for asking to use my stepbrothers room wh...</td>\n",
       "      <td>AITA for asking to use my stepbrothers room wh...</td>\n",
       "    </tr>\n",
       "    <tr>\n",
       "      <th>484425</th>\n",
       "      <td>AskReddit</td>\n",
       "      <td>v7nal</td>\n",
       "      <td>Am I being selfish?</td>\n",
       "      <td>Am I being selfish?\\nMy parents promised me th...</td>\n",
       "    </tr>\n",
       "    <tr>\n",
       "      <th>1635191</th>\n",
       "      <td>AskReddit</td>\n",
       "      <td>1bu7e7</td>\n",
       "      <td>Would living out on my own be a good idea? (Is...</td>\n",
       "      <td>Would living out on my own be a good idea? (Is...</td>\n",
       "    </tr>\n",
       "  </tbody>\n",
       "</table>\n",
       "</div>"
      ],
      "text/plain": [
       "             subreddit      id  \\\n",
       "1494842      AskReddit   nirs6   \n",
       "32069        AskReddit   mr2g8   \n",
       "1162044  AmItheAsshole  cihpqp   \n",
       "484425       AskReddit   v7nal   \n",
       "1635191      AskReddit  1bu7e7   \n",
       "\n",
       "                                                     title  \\\n",
       "1494842  Apartment Managers/Staff, what do you look for...   \n",
       "32069                     Girlfriend help?! What Do I Do?!   \n",
       "1162044  AITA for asking to use my stepbrothers room wh...   \n",
       "484425                                 Am I being selfish?   \n",
       "1635191  Would living out on my own be a good idea? (Is...   \n",
       "\n",
       "                                                  question  \n",
       "1494842  Apartment Managers/Staff, what do you look for...  \n",
       "32069    Girlfriend help?! What Do I Do?!\\nOk so my gir...  \n",
       "1162044  AITA for asking to use my stepbrothers room wh...  \n",
       "484425   Am I being selfish?\\nMy parents promised me th...  \n",
       "1635191  Would living out on my own be a good idea? (Is...  "
      ]
     },
     "execution_count": 8,
     "metadata": {},
     "output_type": "execute_result"
    }
   ],
   "source": [
    "df.sample(5)"
   ]
  },
  {
   "cell_type": "code",
   "execution_count": 9,
   "metadata": {},
   "outputs": [],
   "source": [
    "def clean(s):\n",
    "    s = re.sub(r'\\[[^]]+\\]', '', s)\n",
    "    s = s.replace('AITA', \"Am I an asshole\")\n",
    "    s = s.replace('WIBTA', \"Would I be an asshole\")\n",
    "    return s\n",
    "df['cleaned_question'] = df['question'].apply(clean)"
   ]
  },
  {
   "cell_type": "code",
   "execution_count": 10,
   "metadata": {},
   "outputs": [],
   "source": [
    "def is_valid(row):\n",
    "    if row['subreddit'] == 'AskReddit':\n",
    "        return False\n",
    "    s = row['cleaned_question']\n",
    "    if 'EDIT:' in s:\n",
    "        return False\n",
    "    s = s.lower()\n",
    "    if 'reddit' in s:\n",
    "        return False\n",
    "    if 'http' in s:\n",
    "        return False\n",
    "    if re.search(r'r/[a-z0-9]+', s):\n",
    "        return False\n",
    "    return True\n",
    "df['valid'] = df.apply(is_valid, axis=1)"
   ]
  },
  {
   "cell_type": "code",
   "execution_count": 11,
   "metadata": {},
   "outputs": [
    {
     "name": "stdout",
     "output_type": "stream",
     "text": [
      "Am I an asshole for missing a friend's last comedy show\n",
      "I am a sophmore in college and a have a friend who is a member of a comedy group on campus, who preforms about three to four times a school year. I have been to several of her shows, but unless I show up 45 minutes early, all the seats are filled in the theatre she preforms in and the group I come with and I have to stand in the back. The show itself is about an hour, so in total its about a 1:45 hour time dedication to be seated comfortably usually during a friday or saturday night. \n",
      "This friend is most likely transferring to a different college soon so she dubbed her show last night \"her last show.\" I said I would go and so did my friends until later that night, when everyone I was going to go with bailed. The general consensus was the show took a long time,  and just wasn't funny enough to justify seeing. They also mentioned how our friend (who was preforming) was just memorizing her set hours before the show and it wasn't a very rehearsed performance. I agreed, we called her before the show and I told her that our friends were not coming and she was very upset (she had been calling me a bad friend earlier that day for missing the last show she had). So I did not have the guts to tell her on the phone that I did not want to go, so I just texted her after the call that because everyone else wasn't going I wouldn't be either. I haven't talked to her since, but it was only yesterday. I am sure she will be upset at me and our mutual friends next time she sees us. I just genuinely don't know who is the asshole in this situation as I could be an asshole for not supporting her,  but she could be an asshole for guilting her friends to come to her preformances. I just wonder if I should apologize or tell her that I was justified.\n",
      "\n",
      "TL;DR: I skipped a good friend's last comedy show because I don't like them and my friends said they were going to skip it too.\n",
      "\n",
      "Am I an asshole for not making exceptions for a high up's daughter?\n",
      "I am a safety manager for a rail company, working at a large rail depot. \n",
      "\n",
      "Someone much higher in the company than me asked if I could give his daughter some part time work experience on site. She's studying engineering, and he wanted her to assist the engineers on site. \n",
      "\n",
      "I was perfectly happy for this, and his daughter, Ellie, started a few weeks ago. \n",
      "\n",
      "It's only fair to say that Ellie is very talented. The engineers think her work is great and everyone agrees that she will go far in the industry. \n",
      "\n",
      "Because of the nature of the industry, there isn't a need for formal/professional clothing. We're pretty much all in either PPE or casual clothing. Ellie however always dresses professionally for work. I've told her there's no need as we all dress casually, but she prefers it which is fine of course. \n",
      "\n",
      "Yesterday I was intending to take Ellie onto the railway tracks for the first time. Officially you need a specific qualification to go onto them, but we can issue temporary permits for those who don't have it. \n",
      "\n",
      "The railway has strict rules, and full PPE must be worn on track at all times. Hard hat, gloves, safety glasses, safety boots, and both high vis trousers and vest/shirt/jacket. \n",
      "\n",
      "Ellie was happy to put on the accessories like hard hat etc and change her shoes to safety boots, but she wanted to just put a high vis vest over her work dress, saying she \"didn't feel comfortable\" changing into full high vis clothing. Unfortunately that's not the way it works, and I said I could not issue her a permit if she wouldn't wear the necessary PPE. \n",
      "\n",
      "I then got a call from Ellie's father, telling me that I was \"unreasonable\" towards his daughter, that she was \"just a kid\" who should be given some leeway (as opposed to someone studying for a professional career in a safety-critical industry). He said that she was \"nervous\" and new to the industry, and that I shouldn't be trying to \"frighten\" her.\n",
      "\n",
      "I said that I would not be making exceptions for her. If one of the track workers was working on track without the necessary PPE, they would be sent home, and doing it repeatedly would see them banned from site. \n",
      "\n",
      "Ellie won't be back until next week, but I'm having my manager (lower than Ellie's dad) telling me to go easy on her too. I'm sorry but those rules are there to protect people, and everyone including Ellie needs to follow them. If she or her dad don't like it they can find someone else to give her work experience.\n",
      "\n",
      "Would I be an asshole if I told my coworker he needs to shower more/smell better\n",
      "I work on an armored truck that, by design, does not let a lot of fresh air in. On the truck we are paired up in groups of two, a driver and a hopper. My partner, who I'm with today, smells. A lot. To give you an idea of the smell, think cat pee, sweat, and old hot dogs. Hes a bigger guy (250-300 lb. range) and has issues with his legs, but nothing that would make him smell like this. The issue has been brought to management a few times but nothing is being done. I know others in my branch feel the same way but no one will bring it up to him directly. I know it's a sensitive topic for some people, and it very well could be out of his control, but Would I be an asshole if I told him about it? I have to be on the truck for 10 to 12 hours at a time and I'm literally gasping for fresh air the whole time.\n",
      "\n",
      "Am I an asshole for taking \"advantage\" of my parents while I don't have a job?\n",
      "I (F19) came back home from college after some stuff happened, and have been living with parents. I had been working for a year previously, but quit so I could go in person to college. Been living at home for a month, and asked parents to pay \\~$40 a month for gym, as they took everything from my checking, and they agreed to pay for it.\n",
      "\n",
      "My mom (F45) tells me to take a basket downstairs, and I reply that I would but later as I'm really sore after gym. As we're heading downstairs, I'm telling her about the jobs that I'm applying to and about a few jobs I had applied to and that I had interviews to. She immediately scoffed at me and said \"You're not going to like it. You'll see when you start.\" but then sort of cut herself off and said \"I've never worked them, but go ahead.\"\n",
      "\n",
      "We are walking into the kitchen now, and while I'm talking to my brother (M15), my mom abruptly turns around and starts raising her voice and says,\" All you do is take advantage of us. You don't have a job. I'm paying for your gym. You want me to get you this and this.\" I look at her in shock, and don't say anything to her. I just leave the kitchen. I go up to my room and cry my eyes out in the shower.\n",
      "\n",
      "The day after, they get my boyfriend (M19) and I food. As we are eating the food, my mom comes into where we were and asks why we're being so quiet. My boyfriend replies that we're eating, and out of nowhere my mom says \"you're never going to find a job.\" in a condescending tone. I ask her,\" Why do you feel the need to put me down? Anything I want to try you always shut down, and you've never even tried it.\" she raises her voice and says,\" Oh, you want to start this again?\" She didn't continue after that, and leaves, and I continue eating my food, but eventually let out a few tears.\n",
      "\n",
      "Later that same day she yells for me throughout the house, but I was asleep (my boyfriend told me about this as he was with me). Later in the day, she yells for me again. I walk up the stairs and she asks why I'm ignoring her, and I reply that I'm not, and that if she has anything to tell me, she can text me as I have things to do. She texts me about a store that is hiring.\n",
      "\n",
      "They didn't want me to get a job to focus on school, and now they tell me they want me to work. They recently took $300 out of my checking, leaving me with nothing, and don't tell me. They bought a new car for me and took everything out of my savings to pay for it. I pay for everything school related, and things I need.\n",
      "\n",
      "Am I an asshole for refusing to serve a customer during the minutes silence for remembrance day?\n",
      "So I got called into my managers office today for a serious sit down about my \"customer service skills\". Which was interesting enough. But then I found out exactly what the \"incident was\".\n",
      "\n",
      "3 days ago was remembrance day and at 11am we observe a minute silence for those who have passed. Seems like a simple enough concept.\n",
      "My city had basically just a city wide booze fest where people just kinda hop from bar to bar getting wasted on overpriced wine and craft beers and as per usual, we were listed as one of the venues. Which is fine, I don't mind working but you always get the arseholes who come in on a Sunday because they want to get the full weekend experience. \n",
      "\n",
      "Everything was going fine, and at around quarter to I started telling customers that we would be observing the minute silence and that they wouldn't be able to order for that minute. Which everyone seemed fine with. Until we had the woman who I will call drunk fuck Jane (DFJ for short).\n",
      "I'd refused to serve DFJ as she had had a few at this point and it was 11AM IN THE GODDAMN MORNING, and she was beyond the point where I could reasonably serve her more. DFJ came up at 10:59 and started to ask for another beer. Which I refused and told her that it was nearly 11 o'clock and I'd explain why I was refusing her at 11:01. DFJ was not happy. As the clock hit 11 and the bugles played, DFJ decided she would try to be louder than the bugles and have a rather colourful complaint about how I was refusing to acknowledge her and how I was so unprofessional and discriminatory for refusing to serve her another drink, and I quote \"Because I'm a woman\". \n",
      "\n",
      "The entire minute she was going off at me, and, because I choose to observe the minute silence, I  stayed silent, which only made her louder and more obnoxious. After the minute was over,I thanked her for waiting and explained why she was being refused. DFJ was NOT happy at this and tried to climb over the bar. I kindly asked our bouncer to escort her out of premises and thought nothing of it.\n",
      "\n",
      "Until my boss told me I should have continued to speak to her during the minute as she was still located on our premise and therefore, our client. My hours have been cut back this week because of the incident.\n",
      "\n",
      "Am I an asshole for not serving her during the minutes silence? \n",
      "\n"
     ]
    }
   ],
   "source": [
    "for s in df[df['valid']]['cleaned_question'].sample(5):\n",
    "    print(s)\n",
    "    print()"
   ]
  },
  {
   "cell_type": "code",
   "execution_count": 12,
   "metadata": {},
   "outputs": [
    {
     "data": {
      "text/html": [
       "<div>\n",
       "<style scoped>\n",
       "    .dataframe tbody tr th:only-of-type {\n",
       "        vertical-align: middle;\n",
       "    }\n",
       "\n",
       "    .dataframe tbody tr th {\n",
       "        vertical-align: top;\n",
       "    }\n",
       "\n",
       "    .dataframe thead th {\n",
       "        text-align: right;\n",
       "    }\n",
       "</style>\n",
       "<table border=\"1\" class=\"dataframe\">\n",
       "  <thead>\n",
       "    <tr style=\"text-align: right;\">\n",
       "      <th></th>\n",
       "      <th>subreddit</th>\n",
       "      <th>id</th>\n",
       "      <th>title</th>\n",
       "      <th>question</th>\n",
       "      <th>cleaned_question</th>\n",
       "    </tr>\n",
       "  </thead>\n",
       "  <tbody>\n",
       "    <tr>\n",
       "      <th>87053</th>\n",
       "      <td>AmItheAsshole</td>\n",
       "      <td>4czypu</td>\n",
       "      <td>AITA for reporting a seller to Etsy?</td>\n",
       "      <td>AITA for reporting a seller to Etsy?\\nEarly la...</td>\n",
       "      <td>Am I an asshole for reporting a seller to Etsy...</td>\n",
       "    </tr>\n",
       "    <tr>\n",
       "      <th>87055</th>\n",
       "      <td>AmItheAsshole</td>\n",
       "      <td>4d3evq</td>\n",
       "      <td>AITA...pissed that my boyfriend has had my car...</td>\n",
       "      <td>AITA...pissed that my boyfriend has had my car...</td>\n",
       "      <td>Am I an asshole...pissed that my boyfriend has...</td>\n",
       "    </tr>\n",
       "    <tr>\n",
       "      <th>87056</th>\n",
       "      <td>AmItheAsshole</td>\n",
       "      <td>4d4npn</td>\n",
       "      <td>AITA for setting up Tasker to auto-text my gir...</td>\n",
       "      <td>AITA for setting up Tasker to auto-text my gir...</td>\n",
       "      <td>Am I an asshole for setting up Tasker to auto-...</td>\n",
       "    </tr>\n",
       "    <tr>\n",
       "      <th>87059</th>\n",
       "      <td>AmItheAsshole</td>\n",
       "      <td>4dcnuy</td>\n",
       "      <td>AITA for not wanting spectators present during...</td>\n",
       "      <td>AITA for not wanting spectators present during...</td>\n",
       "      <td>Am I an asshole for not wanting spectators pre...</td>\n",
       "    </tr>\n",
       "    <tr>\n",
       "      <th>87066</th>\n",
       "      <td>AmItheAsshole</td>\n",
       "      <td>4diwg3</td>\n",
       "      <td>AITA for always tipping 15%?</td>\n",
       "      <td>AITA for always tipping 15%?\\nI live in Canada...</td>\n",
       "      <td>Am I an asshole for always tipping 15%?\\nI liv...</td>\n",
       "    </tr>\n",
       "  </tbody>\n",
       "</table>\n",
       "</div>"
      ],
      "text/plain": [
       "           subreddit      id  \\\n",
       "87053  AmItheAsshole  4czypu   \n",
       "87055  AmItheAsshole  4d3evq   \n",
       "87056  AmItheAsshole  4d4npn   \n",
       "87059  AmItheAsshole  4dcnuy   \n",
       "87066  AmItheAsshole  4diwg3   \n",
       "\n",
       "                                                   title  \\\n",
       "87053               AITA for reporting a seller to Etsy?   \n",
       "87055  AITA...pissed that my boyfriend has had my car...   \n",
       "87056  AITA for setting up Tasker to auto-text my gir...   \n",
       "87059  AITA for not wanting spectators present during...   \n",
       "87066                       AITA for always tipping 15%?   \n",
       "\n",
       "                                                question  \\\n",
       "87053  AITA for reporting a seller to Etsy?\\nEarly la...   \n",
       "87055  AITA...pissed that my boyfriend has had my car...   \n",
       "87056  AITA for setting up Tasker to auto-text my gir...   \n",
       "87059  AITA for not wanting spectators present during...   \n",
       "87066  AITA for always tipping 15%?\\nI live in Canada...   \n",
       "\n",
       "                                        cleaned_question  \n",
       "87053  Am I an asshole for reporting a seller to Etsy...  \n",
       "87055  Am I an asshole...pissed that my boyfriend has...  \n",
       "87056  Am I an asshole for setting up Tasker to auto-...  \n",
       "87059  Am I an asshole for not wanting spectators pre...  \n",
       "87066  Am I an asshole for always tipping 15%?\\nI liv...  "
      ]
     },
     "execution_count": 12,
     "metadata": {},
     "output_type": "execute_result"
    }
   ],
   "source": [
    "df2 = df[df['valid']].copy()\n",
    "del df2['valid']\n",
    "df2.head()"
   ]
  },
  {
   "cell_type": "code",
   "execution_count": 13,
   "metadata": {},
   "outputs": [],
   "source": [
    "df2.to_csv('/shared/4/projects/reddit-morals/data/moral-questions.csv', index=False)"
   ]
  },
  {
   "cell_type": "code",
   "execution_count": 14,
   "metadata": {},
   "outputs": [
    {
     "data": {
      "text/plain": [
       "399560"
      ]
     },
     "execution_count": 14,
     "metadata": {},
     "output_type": "execute_result"
    }
   ],
   "source": [
    "len(df2)"
   ]
  },
  {
   "cell_type": "code",
   "execution_count": 16,
   "metadata": {},
   "outputs": [],
   "source": [
    "        instruction = 'The following text is a question to a general audience:\\n%s\\n' \\\n",
    "        + '\\nInstructions:\\n' \\\n",
    "        + ' Determine whether the question can be summarized or reframed as a general moral dilemma where as person has to choose between two mutually-exclusive options.' \\\n",
    "        + ' If the question can be reframed as a moral dilemma, generate an answer in JSON format with the following information:\\n' \\\n",
    "        + ' * A short summary of the question as a moral dilemma in fewer than five sentences. The summary should highlight the general moral dilemma that the author faces. This summary should have the JSON key \"summary\".\\n' \\\n",
    "        + ' * A one sentence description of the first action that could be taken based on the dilemma, with the JSON key \"option1\".\\n' \\\n",
    "        + ' * A one sentence description of the second action that could be taken based on the dilemma, with the JSON key \"option2\".\\n' \\\n",
    "        + 'The two actions should describe distinct choices that can be taken based on the dilemma. Options should reflect different values or morals. Actions should be mutually exclusive and not overlap in their description.\\n' \\\n",
    "        + 'If the question cannot be reframed as a moral dilemma, generate a JSON object with the key \"summary\" with the empty string \"\" for that key.\\n' \\\n",
    "        + ' Do not explain your answer. Generate the string \"Answer: \" before the JSON string.'"
   ]
  }
 ],
 "metadata": {
  "kernelspec": {
   "display_name": "base",
   "language": "python",
   "name": "python3"
  },
  "language_info": {
   "codemirror_mode": {
    "name": "ipython",
    "version": 3
   },
   "file_extension": ".py",
   "mimetype": "text/x-python",
   "name": "python",
   "nbconvert_exporter": "python",
   "pygments_lexer": "ipython3",
   "version": "3.11.5"
  }
 },
 "nbformat": 4,
 "nbformat_minor": 2
}
