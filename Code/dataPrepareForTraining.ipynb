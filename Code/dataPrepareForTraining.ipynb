{
 "cells": [
  {
   "cell_type": "code",
   "execution_count": 2,
   "metadata": {},
   "outputs": [],
   "source": [
    "import pandas as pd\n",
    "import json\n",
    "import random\n",
    "from collections import Counter\n",
    "import re\n",
    "\n",
    "random.seed(42)"
   ]
  },
  {
   "cell_type": "code",
   "execution_count": 3,
   "metadata": {},
   "outputs": [],
   "source": [
    "def divideTrainDevTest(inputlist, labellist):       ## 75:10:15 split\n",
    "    test_idx = random.sample(range(len(inputlist)), int(len(inputlist)*0.15))\n",
    "\n",
    "    new_list = [d for d in range(len(inputlist)) if d not in test_idx]\n",
    "    val_idx = random.sample(new_list, int(len(inputlist)*0.10))\n",
    "\n",
    "    train_idx = [d for d in new_list if d not in val_idx]\n",
    "\n",
    "    train_inputs = [inputlist[x] for x in train_idx]\n",
    "    train_labels = [labellist[x] for x in train_idx]\n",
    "\n",
    "    val_inputs = [inputlist[x] for x in val_idx]\n",
    "    val_labels = [labellist[x] for x in val_idx]\n",
    "\n",
    "    test_inputs = [inputlist[x] for x in test_idx]\n",
    "    test_labels = [labellist[x] for x in test_idx]\n",
    "\n",
    "    return train_inputs, train_labels, val_inputs, val_labels, test_inputs, test_labels"
   ]
  },
  {
   "cell_type": "code",
   "execution_count": 4,
   "metadata": {},
   "outputs": [],
   "source": [
    "def save_to_csv(inputs, labels, filepath, filename):\n",
    "    df = pd.DataFrame()\n",
    "    df['input'] = inputs\n",
    "    df['label'] = labels\n",
    "\n",
    "    df.to_csv(filepath + filename)\n",
    "    print(\"File saved to \", filepath + filename)"
   ]
  },
  {
   "cell_type": "code",
   "execution_count": 5,
   "metadata": {},
   "outputs": [],
   "source": [
    "def processText(text):\n",
    "    text = text.replace('\\n', ' ')\n",
    "    text = text.replace('\\r', ' ')\n",
    "    text = re.sub(r'[^\\x00-\\x7F]+', '', text)\n",
    "    text = re.sub(' +', ' ', text).strip()\n",
    "    return text"
   ]
  },
  {
   "cell_type": "markdown",
   "metadata": {},
   "source": [
    "## For ETHICS-justice"
   ]
  },
  {
   "cell_type": "code",
   "execution_count": 5,
   "metadata": {},
   "outputs": [
    {
     "name": "stdout",
     "output_type": "stream",
     "text": [
      "File saved to  /shared/0/Morality/OnlyFiles/ethics/justice/train.csv\n",
      "File saved to  /shared/0/Morality/OnlyFiles/ethics/justice/test.csv\n",
      "File saved to  /shared/0/Morality/OnlyFiles/ethics/justice/test_hard.csv\n"
     ]
    }
   ],
   "source": [
    "def convertEthicsJustice(input_file, output_file):\n",
    "    inputs, labels = [], []\n",
    "    for sc, lab in zip(input_file['scenario'], input_file['label']):\n",
    "        inputs.append(sc)\n",
    "        labels.append(lab)\n",
    "\n",
    "    save_to_csv(inputs, labels, input_path, output_file)\n",
    "    \n",
    "input_path = \"/shared/0/Morality/OnlyFiles/ethics/justice/\"\n",
    "input_train_file = \"justice_train.csv\"\n",
    "# input_dev_file = \"\"\n",
    "input_test_file = \"justice_test.csv\"\n",
    "input_test_file2 = \"justice_test_hard.csv\"      ## Adversarialy selected hard test samples\n",
    "\n",
    "train_file = pd.read_csv(input_path + input_train_file)\n",
    "# dev_file = \"\"\n",
    "test_file = pd.read_csv(input_path + input_test_file)\n",
    "test_file2 = pd.read_csv(input_path + input_test_file2)\n",
    "\n",
    "convertEthicsJustice(train_file, \"train.csv\")\n",
    "convertEthicsJustice(test_file, \"test.csv\")\n",
    "convertEthicsJustice(test_file2, \"test_hard.csv\")"
   ]
  },
  {
   "cell_type": "markdown",
   "metadata": {},
   "source": [
    "## For MoralExceptQA"
   ]
  },
  {
   "cell_type": "code",
   "execution_count": 6,
   "metadata": {},
   "outputs": [
    {
     "name": "stdout",
     "output_type": "stream",
     "text": [
      "148\n",
      "File saved to  /shared/0/Morality/OnlyFiles/moralexceptqa/full.csv\n",
      "File saved to  /shared/0/Morality/OnlyFiles/moralexceptqa/train.csv\n",
      "File saved to  /shared/0/Morality/OnlyFiles/moralexceptqa/val.csv\n",
      "File saved to  /shared/0/Morality/OnlyFiles/moralexceptqa/test.csv\n"
     ]
    }
   ],
   "source": [
    "input_path = \"/shared/0/Morality/OnlyFiles/moralexceptqa/\"\n",
    "input_train_file = \"MoralExceptQA.json\"\n",
    "\n",
    "with open(input_path + input_train_file, 'r') as f:\n",
    "    data = f.readlines()\n",
    "print(len(data))\n",
    "\n",
    "inputs, labels = [], []\n",
    "\n",
    "for d in data:\n",
    "    d = json.loads(d)\n",
    "    inp = d['context'] + ' [SEP] ' + d['condition'] + ' [SEP] ' + d['scenario']\n",
    "    lab = 1 if d['human.response'] > 0.5 else 0\n",
    "    inputs.append(inp)\n",
    "    labels.append(lab)\n",
    "\n",
    "train_inputs, train_labels, val_inputs, val_labels, test_inputs, test_labels = divideTrainDevTest(inputs, labels)\n",
    "\n",
    "save_to_csv(inputs, labels, input_path, \"full.csv\")\n",
    "save_to_csv(train_inputs, train_labels, input_path, \"train.csv\")\n",
    "save_to_csv(val_inputs, val_labels, input_path, \"val.csv\")\n",
    "save_to_csv(test_inputs, test_labels, input_path, \"test.csv\")\n"
   ]
  },
  {
   "cell_type": "markdown",
   "metadata": {},
   "source": [
    "## For ETHICS-Utilitarianism"
   ]
  },
  {
   "cell_type": "code",
   "execution_count": 7,
   "metadata": {},
   "outputs": [
    {
     "name": "stdout",
     "output_type": "stream",
     "text": [
      "File saved to  /shared/0/Morality/OnlyFiles/ethics/utilitarianism/train.csv\n",
      "File saved to  /shared/0/Morality/OnlyFiles/ethics/utilitarianism/test.csv\n",
      "File saved to  /shared/0/Morality/OnlyFiles/ethics/utilitarianism/test_hard.csv\n"
     ]
    }
   ],
   "source": [
    "def convertEthicsUtil(input_file, output_file):\n",
    "    inputs, inputs2, labels = [], [], []\n",
    "    for i, (sc1, sc2) in enumerate(zip(input_file['scenario1'], input_file['scenario2'])):\n",
    "        if i % 2 == 0:\n",
    "            inputs.append(sc2)\n",
    "            inputs2.append(sc1)\n",
    "            labels.append(1)\n",
    "        else:\n",
    "            inputs.append(sc1)\n",
    "            inputs2.append(sc2)\n",
    "            labels.append(0)\n",
    "\n",
    "    df = pd.DataFrame()\n",
    "    df['inputs1'] = inputs\n",
    "    df['inputs2'] = inputs2\n",
    "    df['labels'] = labels\n",
    "\n",
    "    df.to_csv(input_path + output_file)\n",
    "    print(\"File saved to \", input_path + output_file)\n",
    "\n",
    "input_path = \"/shared/0/Morality/OnlyFiles/ethics/utilitarianism/\"\n",
    "## 0 is better than 1 always\n",
    "input_train_file = \"util_train.csv\"\n",
    "input_test_file = \"util_test.csv\"\n",
    "input_test_file2 = \"util_test_hard.csv\"      ## Adversarialy selected hard test samples\n",
    "\n",
    "train_file = pd.read_csv(input_path + input_train_file, names=['scenario1', 'scenario2'])\n",
    "test_file = pd.read_csv(input_path + input_test_file, names=['scenario1', 'scenario2'])\n",
    "test_file2 = pd.read_csv(input_path + input_test_file2, names=['scenario1', 'scenario2'])\n",
    "\n",
    "convertEthicsUtil(train_file, \"train.csv\")\n",
    "convertEthicsUtil(test_file, \"test.csv\")\n",
    "convertEthicsUtil(test_file2, \"test_hard.csv\")"
   ]
  },
  {
   "cell_type": "markdown",
   "metadata": {},
   "source": [
    "## For Moral Stories - Action Classification"
   ]
  },
  {
   "cell_type": "code",
   "execution_count": 8,
   "metadata": {},
   "outputs": [
    {
     "name": "stdout",
     "output_type": "stream",
     "text": [
      "File saved to  /shared/0/Morality/OnlyFiles/moralstories/action_classification/train.csv\n",
      "File saved to  /shared/0/Morality/OnlyFiles/moralstories/action_classification/val.csv\n",
      "File saved to  /shared/0/Morality/OnlyFiles/moralstories/action_classification/test.csv\n"
     ]
    }
   ],
   "source": [
    "input_path = \"/shared/0/Morality/OnlyFiles/moralstories/action_classification/\"\n",
    "input_train_file = \"train.jsonl\"\n",
    "input_val_file = \"valid.jsonl\"\n",
    "input_test_file = \"test.jsonl\"\n",
    "\n",
    "def convertMoralStoriesAction(jsonfile):\n",
    "    inputs, labels = [], []\n",
    "    with open(input_path + jsonfile, 'r') as f:\n",
    "        jsonlines = f.readlines()\n",
    "    for line in jsonlines:\n",
    "        data = json.loads(line)\n",
    "        if 'moral_action' in data.keys():\n",
    "            action = 'moral_action'\n",
    "        else:\n",
    "            action = 'immoral_action'\n",
    "        inp = data['norm'] + \" [SEP] \" + data[action]\n",
    "        inputs.append(inp)\n",
    "        labels.append(data['label'])\n",
    "    return inputs, labels\n",
    "\n",
    "train_inputs, train_labels = convertMoralStoriesAction(input_train_file)\n",
    "val_inputs, val_labels = convertMoralStoriesAction(input_val_file)\n",
    "test_inputs, test_labels = convertMoralStoriesAction(input_test_file)\n",
    "\n",
    "save_to_csv(train_inputs, train_labels, input_path, 'train.csv')\n",
    "save_to_csv(val_inputs, val_labels, input_path, 'val.csv')\n",
    "save_to_csv(test_inputs, test_labels, input_path, 'test.csv')"
   ]
  },
  {
   "cell_type": "markdown",
   "metadata": {},
   "source": [
    "## For DILEMMAS"
   ]
  },
  {
   "cell_type": "code",
   "execution_count": 9,
   "metadata": {},
   "outputs": [
    {
     "name": "stdout",
     "output_type": "stream",
     "text": [
      "File saved to  /shared/0/Morality/OnlyFiles/dilemmas/train.csv\n",
      "File saved to  /shared/0/Morality/OnlyFiles/dilemmas/val.csv\n",
      "File saved to  /shared/0/Morality/OnlyFiles/dilemmas/test.csv\n"
     ]
    }
   ],
   "source": [
    "input_path = \"/shared/0/Morality/OnlyFiles/dilemmas/\"\n",
    "input_train_file = \"train.scruples-dilemmas.jsonl\"\n",
    "input_train_file2 = \"train-extra.scruples-dilemmas.jsonl\"       ## Data used to qualify workers\n",
    "input_val_file = \"dev.scruples-dilemmas.jsonl\"\n",
    "input_test_file = \"test.scruples-dilemmas.jsonl\"\n",
    "\n",
    "def convertDilemmas(jsonfile, output_file):\n",
    "    inputs, inputs2, labels = [], [], []        ## Select which is a bad action\n",
    "    with open(input_path + jsonfile, 'r') as f:\n",
    "        jsonlines = f.readlines()\n",
    "    for line in jsonlines:\n",
    "        data = json.loads(line)\n",
    "        inp = data['actions'][0]['description']\n",
    "        inp2 = data['actions'][1]['description']\n",
    "        inputs.append(inp)\n",
    "        inputs2.append(inp2)\n",
    "\n",
    "        labels.append(data['gold_label'])\n",
    "\n",
    "    if jsonfile == input_train_file:\n",
    "        with open(input_path + input_train_file2, 'r') as f:\n",
    "            jsonlines = f.readlines()\n",
    "        for line in jsonlines:\n",
    "            data = json.loads(line)\n",
    "            inp = data['actions'][0]['description']\n",
    "            inp2 = data['actions'][1]['description']\n",
    "            inputs.append(inp)\n",
    "            inputs2.append(inp2)\n",
    "\n",
    "            labels.append(data['gold_label'])\n",
    "    \n",
    "    df = pd.DataFrame()\n",
    "    df['inputs1'] = inputs\n",
    "    df['inputs2'] = inputs2\n",
    "    df['labels'] = labels\n",
    "\n",
    "    df.to_csv(input_path + output_file)\n",
    "    print(\"File saved to \", input_path + output_file)\n",
    "\n",
    "convertDilemmas(input_train_file, \"train.csv\")\n",
    "convertDilemmas(input_val_file, \"val.csv\")\n",
    "convertDilemmas(input_test_file, \"test.csv\")"
   ]
  },
  {
   "cell_type": "markdown",
   "metadata": {},
   "source": [
    "## For ETHICS Commonsense"
   ]
  },
  {
   "cell_type": "code",
   "execution_count": 10,
   "metadata": {},
   "outputs": [
    {
     "name": "stdout",
     "output_type": "stream",
     "text": [
      "File saved to  /shared/0/Morality/OnlyFiles/ethics/commonsense/train.csv\n",
      "File saved to  /shared/0/Morality/OnlyFiles/ethics/commonsense/test.csv\n",
      "File saved to  /shared/0/Morality/OnlyFiles/ethics/commonsense/test_hard.csv\n"
     ]
    }
   ],
   "source": [
    "input_path = \"/shared/0/Morality/OnlyFiles/ethics/commonsense/\"\n",
    "input_train_file = \"cm_train.csv\"\n",
    "input_test_file = \"cm_test.csv\"\n",
    "input_test_file2 = \"cm_test_hard.csv\"      ## Adversarialy selected hard test samples\n",
    "\n",
    "def convertEthicsCommonsense(input_file, output_file):\n",
    "    inputs, labels = [], []\n",
    "    for inp, lab in zip(input_file['input'], input_file['label']):\n",
    "        inputs.append(inp)\n",
    "        labels.append(lab)\n",
    "\n",
    "    save_to_csv(inputs, labels, input_path, output_file)\n",
    "\n",
    "train_file = pd.read_csv(input_path + input_train_file)\n",
    "test_file = pd.read_csv(input_path + input_test_file)\n",
    "test_file2 = pd.read_csv(input_path + input_test_file2)\n",
    "\n",
    "convertEthicsCommonsense(train_file, \"train.csv\")\n",
    "convertEthicsCommonsense(test_file, \"test.csv\")\n",
    "convertEthicsCommonsense(test_file2, \"test_hard.csv\")"
   ]
  },
  {
   "cell_type": "markdown",
   "metadata": {},
   "source": [
    "## For ETHICS Deontology"
   ]
  },
  {
   "cell_type": "code",
   "execution_count": 11,
   "metadata": {},
   "outputs": [
    {
     "name": "stdout",
     "output_type": "stream",
     "text": [
      "File saved to  /shared/0/Morality/OnlyFiles/ethics/deontology/train.csv\n",
      "File saved to  /shared/0/Morality/OnlyFiles/ethics/deontology/test.csv\n",
      "File saved to  /shared/0/Morality/OnlyFiles/ethics/deontology/test_hard.csv\n"
     ]
    }
   ],
   "source": [
    "input_path = \"/shared/0/Morality/OnlyFiles/ethics/deontology/\"\n",
    "input_train_file = \"deontology_train.csv\"\n",
    "input_test_file = \"deontology_test.csv\"\n",
    "input_test_file2 = \"deontology_test_hard.csv\"      ## Adversarialy selected hard test samples\n",
    "\n",
    "def convertEthicsDeontology(input_file, output_file):\n",
    "    inputs, labels = [], []\n",
    "    for sc, exc, lab in zip(input_file['scenario'], input_file['excuse'], input_file['label']):\n",
    "        inp = sc + ' [SEP] ' + exc\n",
    "        inputs.append(inp)\n",
    "        labels.append(lab)\n",
    "\n",
    "    save_to_csv(inputs, labels, input_path, output_file)\n",
    "\n",
    "train_file = pd.read_csv(input_path + input_train_file)\n",
    "test_file = pd.read_csv(input_path + input_test_file)\n",
    "test_file2 = pd.read_csv(input_path + input_test_file2)\n",
    "\n",
    "convertEthicsDeontology(train_file, \"train.csv\")\n",
    "convertEthicsDeontology(test_file, \"test.csv\")\n",
    "convertEthicsDeontology(test_file2, \"test_hard.csv\")"
   ]
  },
  {
   "cell_type": "markdown",
   "metadata": {},
   "source": [
    "## For Moral Stories - Consequence Classification"
   ]
  },
  {
   "cell_type": "code",
   "execution_count": 12,
   "metadata": {},
   "outputs": [
    {
     "name": "stdout",
     "output_type": "stream",
     "text": [
      "File saved to  /shared/0/Morality/OnlyFiles/moralstories/consequence_classification/train.csv\n",
      "File saved to  /shared/0/Morality/OnlyFiles/moralstories/consequence_classification/val.csv\n",
      "File saved to  /shared/0/Morality/OnlyFiles/moralstories/consequence_classification/test.csv\n"
     ]
    }
   ],
   "source": [
    "input_path = \"/shared/0/Morality/OnlyFiles/moralstories/consequence_classification/\"\n",
    "input_train_file = \"train-2.jsonl\"\n",
    "input_val_file = \"valid-2.jsonl\"\n",
    "input_test_file = \"test-2.jsonl\"\n",
    "\n",
    "def convertMoralStoriesConsequence(jsonfile):\n",
    "    inputs, labels = [], []\n",
    "    with open(input_path + jsonfile, 'r') as f:\n",
    "        jsonlines = f.readlines()\n",
    "    for line in jsonlines:\n",
    "        data = json.loads(line)\n",
    "        if 'moral_action' in data.keys():\n",
    "            action = 'moral_action'\n",
    "            consequence = \"moral_consequence\"\n",
    "        else:\n",
    "            action = 'immoral_action'\n",
    "            consequence = \"immoral_consequence\"\n",
    "        inp = data['norm'] + \" [SEP] \" + data[action] + \" [SEP] \" + data[consequence]\n",
    "        inputs.append(inp)\n",
    "        labels.append(data['label'])\n",
    "    return inputs, labels\n",
    "\n",
    "train_inputs, train_labels = convertMoralStoriesConsequence(input_train_file)\n",
    "val_inputs, val_labels = convertMoralStoriesConsequence(input_val_file)\n",
    "test_inputs, test_labels = convertMoralStoriesConsequence(input_test_file)\n",
    "\n",
    "save_to_csv(train_inputs, train_labels, input_path, 'train.csv')\n",
    "save_to_csv(val_inputs, val_labels, input_path, 'val.csv')\n",
    "save_to_csv(test_inputs, test_labels, input_path, 'test.csv')"
   ]
  },
  {
   "cell_type": "markdown",
   "metadata": {},
   "source": [
    "## For ANECDOTES"
   ]
  },
  {
   "cell_type": "code",
   "execution_count": 13,
   "metadata": {},
   "outputs": [
    {
     "name": "stdout",
     "output_type": "stream",
     "text": [
      "File saved to  /shared/0/Morality/OnlyFiles/anecdotes/train.csv\n",
      "File saved to  /shared/0/Morality/OnlyFiles/anecdotes/val.csv\n",
      "File saved to  /shared/0/Morality/OnlyFiles/anecdotes/test.csv\n"
     ]
    }
   ],
   "source": [
    "input_path = \"/shared/0/Morality/OnlyFiles/anecdotes/\"\n",
    "input_train_file = \"train.scruples-anecdotes.jsonl\"\n",
    "input_val_file = \"dev.scruples-anecdotes.jsonl\"\n",
    "input_test_file = \"test.scruples-anecdotes.jsonl\"\n",
    "\n",
    "def convertAnecdotes(jsonfile, output_file):\n",
    "    inputs, inputs2, labels = [], [], []        ## Select which is a bad action\n",
    "    with open(input_path + jsonfile, 'r') as f:\n",
    "        jsonlines = f.readlines()\n",
    "    for line in jsonlines:\n",
    "        data = json.loads(line)\n",
    "        inputs.append(processText(data['text']))\n",
    "        labels.append(data['label'])\n",
    "\n",
    "    return inputs, labels\n",
    "\n",
    "train_inputs, train_labels = convertAnecdotes(input_train_file, \"train.csv\")\n",
    "val_inputs, val_labels = convertAnecdotes(input_val_file, \"val.csv\")\n",
    "test_inputs, test_labels = convertAnecdotes(input_test_file, \"test.csv\")\n",
    "\n",
    "save_to_csv(train_inputs, train_labels, input_path, \"train.csv\")\n",
    "save_to_csv(val_inputs, val_labels, input_path, \"val.csv\")\n",
    "save_to_csv(test_inputs, test_labels, input_path, \"test.csv\")"
   ]
  },
  {
   "cell_type": "markdown",
   "metadata": {},
   "source": [
    "## For ETHICS Virtue"
   ]
  },
  {
   "cell_type": "code",
   "execution_count": 14,
   "metadata": {},
   "outputs": [
    {
     "name": "stdout",
     "output_type": "stream",
     "text": [
      "File saved to  /shared/0/Morality/OnlyFiles/ethics/virtue/train.csv\n",
      "File saved to  /shared/0/Morality/OnlyFiles/ethics/virtue/test.csv\n",
      "File saved to  /shared/0/Morality/OnlyFiles/ethics/virtue/test_hard.csv\n"
     ]
    }
   ],
   "source": [
    "input_path = \"/shared/0/Morality/OnlyFiles/ethics/virtue/\"\n",
    "input_train_file = \"virtue_train.csv\"\n",
    "input_test_file = \"virtue_test.csv\"\n",
    "input_test_file2 = \"virtue_test_hard.csv\"      ## Adversarialy selected hard test samples\n",
    "\n",
    "def convertEthicsVirtue(input_file, output_file):\n",
    "    inputs, labels = [], []\n",
    "    for sc, lab in zip(input_file['scenario'], input_file['label']):\n",
    "        inputs.append(sc)\n",
    "        labels.append(lab)\n",
    "\n",
    "    save_to_csv(inputs, labels, input_path, output_file)\n",
    "\n",
    "train_file = pd.read_csv(input_path + input_train_file)\n",
    "test_file = pd.read_csv(input_path + input_test_file)\n",
    "test_file2 = pd.read_csv(input_path + input_test_file2)\n",
    "\n",
    "convertEthicsVirtue(train_file, \"train.csv\")\n",
    "convertEthicsVirtue(test_file, \"test.csv\")\n",
    "convertEthicsVirtue(test_file2, \"test_hard.csv\")"
   ]
  },
  {
   "cell_type": "markdown",
   "metadata": {},
   "source": [
    "## For STORAL - Concept Understanding"
   ]
  },
  {
   "cell_type": "code",
   "execution_count": 15,
   "metadata": {},
   "outputs": [
    {
     "name": "stdout",
     "output_type": "stream",
     "text": [
      "File saves to  /shared/0/Morality/OnlyFiles/storal/mocpt_data/storal_en/train.csv\n",
      "File saves to  /shared/0/Morality/OnlyFiles/storal/mocpt_data/storal_en/val.csv\n",
      "File saves to  /shared/0/Morality/OnlyFiles/storal/mocpt_data/storal_en/test.csv\n",
      "File saves to  /shared/0/Morality/OnlyFiles/storal/mocpt_data/storal_zh/train.csv\n",
      "File saves to  /shared/0/Morality/OnlyFiles/storal/mocpt_data/storal_zh/val.csv\n",
      "File saves to  /shared/0/Morality/OnlyFiles/storal/mocpt_data/storal_zh/test.csv\n"
     ]
    }
   ],
   "source": [
    "def convertStoralMocpt(input_file, output_file):\n",
    "    inputs2, inputs3, inputs4, inputs5, inputs6, labels = [], [], [], [], [], []\n",
    "    with open(input_path + input_file, 'r') as f:\n",
    "        jsonlines = f.readlines()\n",
    "    for line in jsonlines:\n",
    "        data = json.loads(line)\n",
    "        inputs2.append(data['story'] + \" [SEP] \" + data['moral1'])\n",
    "        inputs3.append(data['story'] + \" [SEP] \" + data['moral2'])\n",
    "        inputs4.append(data['story'] + \" [SEP] \" + data['moral3'])\n",
    "        inputs5.append(data['story'] + \" [SEP] \" + data['moral4'])\n",
    "        inputs6.append(data['story'] + \" [SEP] \" + data['moral5'])\n",
    "        labels.append(data['label'])\n",
    "\n",
    "    df = pd.DataFrame()\n",
    "    df['inputs2'], df['inputs3'], df['inputs4'], df['inputs5'], df['inputs6'], df['labels'] = inputs2, inputs3, inputs4, inputs5, inputs6, labels\n",
    "    df.to_csv(input_path + output_file)\n",
    "    print(\"File saves to \", input_path + output_file)\n",
    "\n",
    "## English\n",
    "input_path = \"/shared/0/Morality/OnlyFiles/storal/mocpt_data/storal_en/\"\n",
    "input_train_file = \"storal_en_label_train.jsonl\"\n",
    "input_val_file = \"storal_en_label_valid.jsonl\"\n",
    "input_test_file = \"storal_en_label_test.jsonl\"\n",
    "\n",
    "convertStoralMocpt(input_train_file, \"train.csv\")\n",
    "convertStoralMocpt(input_val_file, \"val.csv\")\n",
    "convertStoralMocpt(input_test_file, \"test.csv\")\n",
    "\n",
    "## Chinese\n",
    "\n",
    "input_path = \"/shared/0/Morality/OnlyFiles/storal/mocpt_data/storal_zh/\"\n",
    "input_train_file = \"storal_zh_label_train.jsonl\"\n",
    "input_val_file = \"storal_zh_label_valid.jsonl\"\n",
    "input_test_file = \"storal_zh_label_test.jsonl\"\n",
    "\n",
    "convertStoralMocpt(input_train_file, \"train.csv\")\n",
    "convertStoralMocpt(input_val_file, \"val.csv\")\n",
    "convertStoralMocpt(input_test_file, \"test.csv\")"
   ]
  },
  {
   "cell_type": "markdown",
   "metadata": {},
   "source": [
    "## For STORAL - Preference Alignment"
   ]
  },
  {
   "cell_type": "code",
   "execution_count": 16,
   "metadata": {},
   "outputs": [
    {
     "name": "stdout",
     "output_type": "stream",
     "text": [
      "File saves to  /shared/0/Morality/OnlyFiles/storal/mopref_data/storal_en/train.csv\n",
      "File saves to  /shared/0/Morality/OnlyFiles/storal/mopref_data/storal_en/val.csv\n",
      "File saves to  /shared/0/Morality/OnlyFiles/storal/mopref_data/storal_en/test.csv\n",
      "File saves to  /shared/0/Morality/OnlyFiles/storal/mopref_data/storal_zh/train.csv\n",
      "File saves to  /shared/0/Morality/OnlyFiles/storal/mopref_data/storal_zh/val.csv\n",
      "File saves to  /shared/0/Morality/OnlyFiles/storal/mopref_data/storal_zh/test.csv\n"
     ]
    }
   ],
   "source": [
    "def convertStoralMocpt(input_file, output_file):\n",
    "    inputs2, inputs3, labels = [], [], []\n",
    "    with open(input_path + input_file, 'r') as f:\n",
    "        jsonlines = f.readlines()\n",
    "    for line in jsonlines:\n",
    "        data = json.loads(line)\n",
    "        inputs2.append(data['story'] + \" [SEP] \" + data['moral1'])\n",
    "        inputs3.append(data['story'] + \" [SEP] \" + data['moral2'])\n",
    "        labels.append(data['label'])\n",
    "\n",
    "    df = pd.DataFrame()\n",
    "    df['inputs2'], df['inputs3'], df['labels'] = inputs2, inputs3, labels\n",
    "    df.to_csv(input_path + output_file)\n",
    "    print(\"File saves to \", input_path + output_file)\n",
    "\n",
    "## English\n",
    "input_path = \"/shared/0/Morality/OnlyFiles/storal/mopref_data/storal_en/\"\n",
    "input_train_file = \"storal_en_label_train.jsonl\"\n",
    "input_val_file = \"storal_en_label_valid.jsonl\"\n",
    "input_test_file = \"storal_en_label_test.jsonl\"\n",
    "\n",
    "convertStoralMocpt(input_train_file, \"train.csv\")\n",
    "convertStoralMocpt(input_val_file, \"val.csv\")\n",
    "convertStoralMocpt(input_test_file, \"test.csv\")\n",
    "\n",
    "## Chinese\n",
    "\n",
    "input_path = \"/shared/0/Morality/OnlyFiles/storal/mopref_data/storal_zh/\"\n",
    "input_train_file = \"storal_zh_label_train.jsonl\"\n",
    "input_val_file = \"storal_zh_label_valid.jsonl\"\n",
    "input_test_file = \"storal_zh_label_test.jsonl\"\n",
    "\n",
    "convertStoralMocpt(input_train_file, \"train.csv\")\n",
    "convertStoralMocpt(input_val_file, \"val.csv\")\n",
    "convertStoralMocpt(input_test_file, \"test.csv\")"
   ]
  },
  {
   "cell_type": "markdown",
   "metadata": {},
   "source": [
    "## For Moral Foundation Reddit Corpus"
   ]
  },
  {
   "cell_type": "code",
   "execution_count": 17,
   "metadata": {},
   "outputs": [],
   "source": [
    "## Finding majority to get final labels\n",
    "\n",
    "df = pd.read_csv(\"/shared/0/Morality/OnlyFiles/moralfoundationredditcorpus/final_mfrc_data.csv\")\n",
    "text = []\n",
    "labels = []\n",
    "\n",
    "this_text = \"\"\n",
    "this_labels = []\n",
    "for i in range(len(df)):\n",
    "    lab = False\n",
    "    if df['text'][i] != this_text:\n",
    "        if this_labels:\n",
    "            cnt = dict(Counter(this_labels))\n",
    "            cnt = {k: v for k, v in sorted(cnt.items(), key=lambda item: item[1], reverse=True)}\n",
    "            max = list(cnt.values())[0]\n",
    "            if max >= 50/100 * sum(list(cnt.values())):\n",
    "                lab = list(cnt.keys())[0]\n",
    "            else:\n",
    "                lab = False\n",
    "            this_labels = []\n",
    "        this_text = df['text'][i]\n",
    "\n",
    "        if lab:\n",
    "            text.append(processText(this_text))\n",
    "            labels.append(lab)\n",
    "    lab = df['annotation'][i].split(\",\")\n",
    "    this_labels.extend(lab)\n",
    "\n",
    "df = pd.DataFrame()\n",
    "df['text'] = text\n",
    "df['labels'] = labels\n",
    "\n",
    "df.to_csv(\"/shared/0/Morality/OnlyFiles/moralfoundationredditcorpus/mfrc_data_majority.csv\")\n",
    "\n",
    "# Counter({'Non-Moral': 13751,\n",
    "#          'Thin Morality': 3246,\n",
    "#          'Care': 1892,\n",
    "#          'Equality': 1093,\n",
    "#          'Authority': 948,\n",
    "#          'Proportionality': 896,\n",
    "#          'Loyalty': 540,\n",
    "#          'Purity': 358})"
   ]
  },
  {
   "cell_type": "code",
   "execution_count": 22,
   "metadata": {},
   "outputs": [
    {
     "name": "stdout",
     "output_type": "stream",
     "text": [
      "File saved to  /shared/0/Morality/OnlyFiles/moralfoundationredditcorpus/train.csv\n",
      "File saved to  /shared/0/Morality/OnlyFiles/moralfoundationredditcorpus/val.csv\n",
      "File saved to  /shared/0/Morality/OnlyFiles/moralfoundationredditcorpus/test.csv\n"
     ]
    }
   ],
   "source": [
    "## Preparing data\n",
    "\n",
    "input_path = \"/shared/0/Morality/OnlyFiles/moralfoundationredditcorpus/\"\n",
    "input_train_file = \"mfrc_data_majority.csv\"\n",
    "\n",
    "inputs, labels = [], []\n",
    "data = pd.read_csv(input_path + input_train_file)\n",
    "inputs = data['text'].tolist()\n",
    "labels = data['labels'].tolist()\n",
    "\n",
    "train_inputs, train_labels, val_inputs, val_labels, test_inputs, test_labels = divideTrainDevTest(inputs, labels)\n",
    "\n",
    "save_to_csv(train_inputs, train_labels, input_path, \"train.csv\")\n",
    "save_to_csv(val_inputs, val_labels, input_path, \"val.csv\")\n",
    "save_to_csv(test_inputs, test_labels, input_path, \"test.csv\")"
   ]
  },
  {
   "cell_type": "markdown",
   "metadata": {},
   "source": [
    "## For Moral Foundations Twitter Corpus"
   ]
  },
  {
   "cell_type": "code",
   "execution_count": 23,
   "metadata": {},
   "outputs": [],
   "source": [
    "## Finding tweet texts and majority\n",
    "\n",
    "with open(\"/shared/0/Morality/OnlyFiles/moralfoundationstwittercorpus/MFTC_V4_text.json\",\"r\") as f:\n",
    "    data = json.load(f)\n",
    "\n",
    "tweets_id = []\n",
    "tweets_text = []\n",
    "labels = []\n",
    "\n",
    "for item in data:\n",
    "    tweets = item['Tweets']\n",
    "    for tweet in tweets:\n",
    "        tweets_id.append(tweet['tweet_id'])\n",
    "\n",
    "        this_labels = []\n",
    "        for ann in tweet['annotations']:\n",
    "            an = ann['annotation'].split(\",\")\n",
    "            this_labels.extend(an)\n",
    "        cnt = dict(Counter(this_labels))\n",
    "        cnt = {k: v for k, v in sorted(cnt.items(), key=lambda item: item[1], reverse=True)}\n",
    "        lab = list(cnt.keys())[0]\n",
    "        labels.append(lab)\n",
    "\n",
    "        tweets_text.append(tweet['tweet_text'])\n",
    "\n",
    "df = pd.DataFrame()\n",
    "df['tweet_id'] = tweets_id\n",
    "df['tweets'] = tweets_text\n",
    "df['labels'] = labels\n",
    "\n",
    "df.to_csv(\"/shared/0/Morality/OnlyFiles/moralfoundationstwittercorpus/MFTC_majority.csv\")\n",
    "\n",
    "# Counter({'non-moral': 15422,\n",
    "#          'harm': 3558,\n",
    "#          'cheating': 3025,\n",
    "#          'loyalty': 2258,\n",
    "#          'fairness': 2255,\n",
    "#          'care': 2161,\n",
    "#          'subversion': 1764,\n",
    "#          'authority': 1375,\n",
    "#          'betrayal': 1279,\n",
    "#          'degradation': 1193,\n",
    "#          'purity': 697})\n"
   ]
  },
  {
   "cell_type": "code",
   "execution_count": 26,
   "metadata": {},
   "outputs": [
    {
     "name": "stdout",
     "output_type": "stream",
     "text": [
      "File saved to  /shared/0/Morality/OnlyFiles/moralfoundationstwittercorpus/train.csv\n",
      "File saved to  /shared/0/Morality/OnlyFiles/moralfoundationstwittercorpus/val.csv\n",
      "File saved to  /shared/0/Morality/OnlyFiles/moralfoundationstwittercorpus/test.csv\n"
     ]
    }
   ],
   "source": [
    "## Preparing data\n",
    "\n",
    "input_path = \"/shared/0/Morality/OnlyFiles/moralfoundationstwittercorpus/\"\n",
    "input_train_file = \"MFTC_majority.csv\"\n",
    "\n",
    "inputs, labels = [], []\n",
    "data = pd.read_csv(input_path + input_train_file)\n",
    "inputs = data['tweets'].tolist()\n",
    "labels = data['labels'].tolist()\n",
    "\n",
    "train_inputs, train_labels, val_inputs, val_labels, test_inputs, test_labels = divideTrainDevTest(inputs, labels)\n",
    "\n",
    "save_to_csv(train_inputs, train_labels, input_path, \"train.csv\")\n",
    "save_to_csv(val_inputs, val_labels, input_path, \"val.csv\")\n",
    "save_to_csv(test_inputs, test_labels, input_path, \"test.csv\")"
   ]
  },
  {
   "cell_type": "markdown",
   "metadata": {},
   "source": [
    "## For Moral Integrity Corpus"
   ]
  },
  {
   "cell_type": "code",
   "execution_count": 8,
   "metadata": {},
   "outputs": [
    {
     "name": "stdout",
     "output_type": "stream",
     "text": [
      "File saved to  /shared/0/Morality/OnlyFiles/moralintegritycorpus/train.csv\n",
      "File saved to  /shared/0/Morality/OnlyFiles/moralintegritycorpus/val.csv\n",
      "File saved to  /shared/0/Morality/OnlyFiles/moralintegritycorpus/test.csv\n"
     ]
    }
   ],
   "source": [
    "input_path = \"/shared/0/Morality/OnlyFiles/moralintegritycorpus/\"\n",
    "input_train_file = \"MIC.csv\"\n",
    "\n",
    "train_inputs, train_labels, val_inputs, val_labels, test_inputs, test_labels = [], [], [], [], [], []\n",
    "\n",
    "data = pd.read_csv(input_path + input_train_file)\n",
    "\n",
    "inputs = data['QA'].tolist()\n",
    "labels = data['moral'].tolist()\n",
    "splits = data['split'].tolist()\n",
    "\n",
    "for inp, lab, spl in zip(inputs, labels, splits):\n",
    "    if spl == 'train':\n",
    "        train_inputs.append(inp)\n",
    "        try:\n",
    "            lab = \",\".join([x.strip() for x in lab.split(\"|\")])\n",
    "        except:\n",
    "            lab = \"None\"\n",
    "        train_labels.append(lab)\n",
    "    elif spl == 'test':\n",
    "        test_inputs.append(inp)\n",
    "        try:\n",
    "            lab = \",\".join([x.strip() for x in lab.split(\"|\")])\n",
    "        except:\n",
    "            lab = \"None\"\n",
    "        test_labels.append(lab)\n",
    "    else:\n",
    "        val_inputs.append(inp)\n",
    "        try:\n",
    "            lab = \",\".join([x.strip() for x in lab.split(\"|\")])\n",
    "        except:\n",
    "            lab = \"None\"\n",
    "        val_labels.append(lab)\n",
    "\n",
    "save_to_csv(train_inputs, train_labels, input_path, \"train.csv\")\n",
    "save_to_csv(val_inputs, val_labels, input_path, \"val.csv\")\n",
    "save_to_csv(test_inputs, test_labels, input_path, \"test.csv\")"
   ]
  },
  {
   "cell_type": "markdown",
   "metadata": {},
   "source": [
    "## For MoralConvita"
   ]
  },
  {
   "cell_type": "code",
   "execution_count": 30,
   "metadata": {},
   "outputs": [],
   "source": [
    "## Finding tweet texts and labels\n",
    "\n",
    "data = pd.read_csv(\"/shared/0/Morality/OnlyFiles/moralconvita/moralConvITA_disaggregated.csv\")\n",
    "tweets_text = []\n",
    "morals = []\n",
    "\n",
    "for i in range(len(data)):\n",
    "    tweets_text.append(data['text'][i])\n",
    "    tweets_text.append(data['text'][i] + \" [SEP] \" + data['text_reply'][i])\n",
    "\n",
    "    morals.append(data['first_pair_label'][i])\n",
    "    morals.append(data['reply_label'][i])\n",
    "\n",
    "df = pd.DataFrame()\n",
    "df['tweets'] = tweets_text\n",
    "df['morals'] = morals\n",
    "\n",
    "df.to_csv(\"/shared/0/Morality/OnlyFiles/moralconvita/MoralConvITA_text.csv\")\n"
   ]
  },
  {
   "cell_type": "code",
   "execution_count": 31,
   "metadata": {},
   "outputs": [
    {
     "name": "stdout",
     "output_type": "stream",
     "text": [
      "File saved to  /shared/0/Morality/OnlyFiles/moralconvita/train.csv\n",
      "File saved to  /shared/0/Morality/OnlyFiles/moralconvita/val.csv\n",
      "File saved to  /shared/0/Morality/OnlyFiles/moralconvita/test.csv\n"
     ]
    }
   ],
   "source": [
    "## Preparing data\n",
    "\n",
    "input_path = \"/shared/0/Morality/OnlyFiles/moralconvita/\"\n",
    "input_train_file = \"MoralConvITA_text.csv\"\n",
    "\n",
    "inputs, labels = [], []\n",
    "data = pd.read_csv(input_path + input_train_file)\n",
    "inputs = data['tweets'].tolist()\n",
    "labels = data['morals'].tolist()\n",
    "\n",
    "train_inputs, train_labels, val_inputs, val_labels, test_inputs, test_labels = divideTrainDevTest(inputs, labels)\n",
    "\n",
    "save_to_csv(train_inputs, train_labels, input_path, \"train.csv\")\n",
    "save_to_csv(val_inputs, val_labels, input_path, \"val.csv\")\n",
    "save_to_csv(test_inputs, test_labels, input_path, \"test.csv\")"
   ]
  },
  {
   "cell_type": "markdown",
   "metadata": {},
   "source": [
    "## For Story Commonsense"
   ]
  },
  {
   "cell_type": "code",
   "execution_count": 32,
   "metadata": {},
   "outputs": [
    {
     "name": "stdout",
     "output_type": "stream",
     "text": [
      "File saved to  /shared/0/Morality/OnlyFiles/storycommonsense/train.csv\n",
      "File saved to  /shared/0/Morality/OnlyFiles/storycommonsense/val.csv\n",
      "File saved to  /shared/0/Morality/OnlyFiles/storycommonsense/test.csv\n"
     ]
    }
   ],
   "source": [
    "input_path = \"/shared/0/Morality/OnlyFiles/storycommonsense/\"\n",
    "input_train_file = \"training/allcharlinepairs.csv\"\n",
    "input_val_file = \"dev/emotion/allcharlinepairs.csv\"\n",
    "input_test_file = \"test/emotion/allcharlinepairs.csv\"\n",
    "\n",
    "def convertStoryCommonsense(inputfile):\n",
    "    inputs, labels = [], []\n",
    "    data = pd.read_csv(input_path + inputfile)\n",
    "    for i in range(len(data)):\n",
    "        inp = str(data['context'][i]) + \" [SEP] \" + data['sentence'][i] + \" [SEP] \" + data['char'][i]\n",
    "        inputs.append(inp)\n",
    "        labels.append(data['emotion'][i])\n",
    "\n",
    "    return inputs, labels\n",
    "\n",
    "train_inputs, train_labels = convertStoryCommonsense(input_train_file)\n",
    "val_inputs, val_labels = convertStoryCommonsense(input_val_file)\n",
    "test_inputs, test_labels = convertStoryCommonsense(input_test_file)\n",
    "\n",
    "save_to_csv(train_inputs, train_labels, input_path, \"train.csv\")\n",
    "save_to_csv(val_inputs, val_labels, input_path, \"val.csv\")\n",
    "save_to_csv(test_inputs, test_labels, input_path, \"test.csv\")"
   ]
  },
  {
   "cell_type": "code",
   "execution_count": null,
   "metadata": {},
   "outputs": [],
   "source": []
  }
 ],
 "metadata": {
  "kernelspec": {
   "display_name": "base",
   "language": "python",
   "name": "python3"
  },
  "language_info": {
   "codemirror_mode": {
    "name": "ipython",
    "version": 3
   },
   "file_extension": ".py",
   "mimetype": "text/x-python",
   "name": "python",
   "nbconvert_exporter": "python",
   "pygments_lexer": "ipython3",
   "version": "3.11.7"
  }
 },
 "nbformat": 4,
 "nbformat_minor": 2
}
